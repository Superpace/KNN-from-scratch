{
 "cells": [
  {
   "attachments": {},
   "cell_type": "markdown",
   "metadata": {},
   "source": [
    "## KNN(K-Nearest Neighborhood)"
   ]
  },
  {
   "cell_type": "markdown",
   "metadata": {},
   "source": [
    "### Kütüphanelerin Dahil Edilmesi\n",
    "Programımız içerisinde gerekli işlemler için bazı kütüphanelerden yararlandım"
   ]
  },
  {
   "cell_type": "code",
   "execution_count": 1,
   "metadata": {},
   "outputs": [],
   "source": [
    "# Importing the libraies\n",
    "import pandas as pd\n",
    "import numpy as np\n",
    "import matplotlib.pyplot as plt\n",
    "from tqdm import tqdm  \n",
    "\n",
    "from sklearn.neighbors import KNeighborsClassifier\n",
    "from sklearn.model_selection import train_test_split\n",
    "from sklearn import preprocessing\n",
    "from sklearn.metrics import accuracy_score,classification_report\n",
    "from sklearn.preprocessing import LabelEncoder\n",
    "\n",
    "from collections import Counter"
   ]
  },
  {
   "cell_type": "markdown",
   "metadata": {},
   "source": [
    "### Global Değişkenlerin Tanımlanması\n",
    "Bu kısımda bazı değişkenlere her fonksiyondan erişebilmek için bu değişkenleri global olarak tanımladım ."
   ]
  },
  {
   "cell_type": "code",
   "execution_count": 2,
   "metadata": {},
   "outputs": [],
   "source": [
    "# Global variables\n",
    "X,Y=[],[]\n",
    "X_train, X_test, Y_train, Y_test=[],[],[],[]"
   ]
  },
  {
   "cell_type": "markdown",
   "metadata": {},
   "source": [
    "### Class Label'ın ayrılması\n",
    "Bu fonksiyonumda elimizdeki dataframe üzerindeki class label'a ait olan sütunu kullanıcıdan alarak Y diye adlandırdığımız değişkene ve kalan sütunları ise X değişkenine atadık . Eğer girilen değer sütunlarda yoksa hata mesajı döndürdük ."
   ]
  },
  {
   "cell_type": "code",
   "execution_count": 3,
   "metadata": {},
   "outputs": [],
   "source": [
    "def seperateXY(df):\n",
    "    # Seperating our data to X and Y arrays\n",
    "    while True:\n",
    "        global X,Y\n",
    "        classLabel = input(\"\\nWrite the class label : \")\n",
    "        if classLabel in df.columns:\n",
    "            X = df.drop(classLabel, axis=1)\n",
    "            Y = df[classLabel]\n",
    "            break\n",
    "        else:\n",
    "            print(f\"\\\"{classLabel}\\\" class label is unknown.\")"
   ]
  },
  {
   "cell_type": "markdown",
   "metadata": {},
   "source": [
    "### Encode işlemi\n",
    "Bu kısımda yaptığım işlem algoritmamızın kategorik veriler için de uygulanabilir olmasını sağlamaktır . Bunun için sayısal olmayan verileri bulup bu verilerimizi LabelEncoder ile sayısal verilere çevirmiş olduk ."
   ]
  },
  {
   "cell_type": "code",
   "execution_count": 4,
   "metadata": {},
   "outputs": [],
   "source": [
    "def encodeLabels():\n",
    "    \n",
    "    # Find the categorical values\n",
    "    df_categorical = X.select_dtypes(include = 'object')\n",
    "    \n",
    "    le = LabelEncoder()\n",
    "    for col in df_categorical.columns.values:\n",
    "        X[col] = le.fit_transform(X[col])\n",
    "    print(X.head)"
   ]
  },
  {
   "cell_type": "markdown",
   "metadata": {},
   "source": [
    "### Sütunların Düzenlenmesi\n",
    "Bu kısımdaki fonksiyonumda kullanıcının istemediği sütunları kaldırmasına olanak sağladım . While True döngüsü içerisinde F değeri girilene kadar işlem yapılmasını belirttim ."
   ]
  },
  {
   "cell_type": "code",
   "execution_count": 5,
   "metadata": {},
   "outputs": [],
   "source": [
    "def prepareColumns():\n",
    "    global X\n",
    "    columnlist = list(X.columns.values)\n",
    "    i=0\n",
    "    cdict = {}\n",
    "    \n",
    "    for column in columnlist:\n",
    "        cdict[i] = column\n",
    "        i=i+1\n",
    "    \n",
    "    while(True):\n",
    "        print(\"\\nPress enter after typing the column which you don't want to add prediction\")\n",
    "        printColumns(cdict)\n",
    "        print(\"If you have finished enter the letter 'F' \")\n",
    "        choice = input(\"\\n=> \")\n",
    "        \n",
    "        if choice == \"F\" or choice ==\"f\":\n",
    "            break\n",
    "        elif int(choice) in cdict:\n",
    "            del X[cdict[int(choice)]]\n",
    "            del cdict[int(choice)]\n",
    "        else:\n",
    "            print(\"You pressed an incorrect key !\\n\")"
   ]
  },
  {
   "cell_type": "markdown",
   "metadata": {},
   "source": [
    "Üst kısımda yazmış olduğum fonksiyonda oluşturmuş olduğum dictionary tipindeki değişkenimde tuttuğum indeksler ve sütunların isimlerini yazdırmak için aşağıdaki fonksiyonu kullandım"
   ]
  },
  {
   "cell_type": "code",
   "execution_count": 6,
   "metadata": {},
   "outputs": [],
   "source": [
    "def printColumns(cdict):\n",
    "    # Print their indexes and column names\n",
    "    for number in cdict:\n",
    "        print(str(number)+\".\"+cdict[number])"
   ]
  },
  {
   "attachments": {
    "image.png": {
     "image/png": "[encoded data removed]"
    }
   },
   "cell_type": "markdown",
   "metadata": {},
   "source": [
    "### Uzaklıkların Bulunması\n",
    "Uzaklıkları bulmak için çeşitli yöntemler vardır . Euclidian , Manhattan ve Minkowski bunlara örnek gösterilebilir . Ben kendi programımda Manhattan yöntemini de kapsadığı , onun bir genel formülü formunda olmasından ötürü Minkowski yöntemini tercih ettim . ![image.png](attachment:image.png)"
   ]
  },
  {
   "cell_type": "code",
   "execution_count": 7,
   "metadata": {},
   "outputs": [],
   "source": [
    "def minkowski_distance(p1, p2, p=1):\n",
    "    \n",
    "    dimensions = len(p1) # or p2 , it doesn't matter\n",
    "    totalDistance = 0\n",
    "    \n",
    "    for d in range(dimensions):\n",
    "        \n",
    "        # Minkowski distance formula\n",
    "\n",
    "        #   _  __          p   _ 1/p\n",
    "        #  |   \\   |x - y|     |   \n",
    "        #  |_  /_    i   i    _| \n",
    "        #\n",
    "        \n",
    "        totalDistance += abs(p1[d] - p2[d])**p\n",
    "        \n",
    "    totalDistance = totalDistance**(1/p)\n",
    "    return totalDistance"
   ]
  },
  {
   "attachments": {},
   "cell_type": "markdown",
   "metadata": {},
   "source": [
    "### X'in Ölçeklenmesi\n",
    "Şimdi bir hayal edelim , yaş ve gelir bilgileri içeren bir veri setimiz var ve bu veri setimizi KNN algoritması ile çalıştıracağız . \n",
    "\n",
    "KNN in yaş ve maaş verilerinden aldığı uzaklık bilgilerinin büyüklüğü çok fazla ve fazla değişken olacak ve bu yüzden gelire nazaran daha az bi değer olan yaş değerimiz algoritma için pek de bir anlam ifade etmeyecektir .\n",
    "\n",
    "Çözüm olarak bu değerlerin hepsini belirli bir aralığa dizmemiz algoritmamız için çok daha iyi olacaktır . Bunu yapmak için de bu fonksiyon içinde bir min max scaler kullanıp X_train ve X_test verilerime uyguladım ."
   ]
  },
  {
   "cell_type": "code",
   "execution_count": 8,
   "metadata": {},
   "outputs": [],
   "source": [
    "def MinMaxNormalization(data, new_min=0, new_max=1):\n",
    "    old_min = np.min(data, axis=0)\n",
    "    old_max = np.max(data, axis=0)\n",
    "    denominator = abs(old_max - old_min)\n",
    "    \n",
    "    return (np.divide((data - old_min), denominator) * ( new_max - new_min ) + new_min)"
   ]
  },
  {
   "cell_type": "markdown",
   "metadata": {},
   "source": [
    "### Tahmin işleminin yapılması\n",
    "Nihai amacımız olan girilen verinin class label'ının tahmin edilmesi işlemi aşağıda görmüş olduğunuz fonksiyon içerisinde yapılmaktadır . Bu fonksiyon k ve p değerleri almaktadır . Veri setimiz içersindeki her sample , bizim gönderdiğimiz veri ile kıyaslanır ve bir uzaklık değeri oluşturur . Bunlar \"distancesDF\" adlı dataframe de verilerin indeks sırasına göre tutulur . Ardından uzaklıklara göre sıralama işlemi yapılır ve içlerinden en üstte bulunan k tanesi seçilir . Counter adlı kütüphane ile birlikte bu verileri class label a göre gruplayabiliyoruz . İlk köşeli parantez output sayınıza göre değişir fakat en çok olan 0. indekste olduğu için biz o indeksi seçtik . counter.most_common()[0] haliyle bıraksaydık K değerimiz de 10 olsaydı  çıktımız şu şekilde olabilirdi :\n",
    "\n",
    "(0,7) \n",
    "\n",
    "Burada ilk değerimiz class label , ikinci değer ise k değer (10) içerisinde o değerden kaç tane komşusu olduğudur . O yüzden bir köşeli parantez daha ekleyip 0. indeksini aldık ."
   ]
  },
  {
   "cell_type": "code",
   "execution_count": 9,
   "metadata": {},
   "outputs": [],
   "source": [
    "def predict(X_test,k, p):\n",
    "    global X_train,Y_train\n",
    "    predictions=[]\n",
    "    \n",
    "    for test_point in X_test.values:\n",
    "        distances = []\n",
    "        \n",
    "        for train_point in X_train.values:\n",
    "            \n",
    "            distance = minkowski_distance(test_point, train_point, p=p)\n",
    "            distances.append(distance)\n",
    "        \n",
    "        distancesDF = pd.DataFrame(data=distances, columns=['dist'], \n",
    "                                index=Y_train.index)\n",
    "        \n",
    "        n_neighboors = distancesDF.sort_values(by=['dist'], axis=0)[:k]\n",
    "\n",
    "        counter = Counter(Y_train[n_neighboors.index])\n",
    "\n",
    "        prediction = counter.most_common()[0][0]\n",
    "        \n",
    "        predictions.append(prediction)\n",
    "    \n",
    "    return predictions"
   ]
  },
  {
   "cell_type": "markdown",
   "metadata": {},
   "source": [
    "### En iyi K değerinin bulunması\n",
    "Burada fonksiyona bakmasını istediğimiz minimum ve maksimum k değerlerini giriyoruz . Ardından min/max k değerlerini kontrol ettikten sonra sırayla aralıktaki k değerlerini veri seti için test ediyor . En yüksek başarı oranını best_acc , k değerini ise best_k değişkenine atayıp bunları yazdırıyor . Son olarak da programım Başarı/K değeri grafiğini bastırıyor ."
   ]
  },
  {
   "cell_type": "code",
   "execution_count": 10,
   "metadata": {},
   "outputs": [],
   "source": [
    "def findTheBestK(mink,maxk):\n",
    "    global X_train, X_test, Y_train, Y_test\n",
    "    best_acc=0\n",
    "    best_k = 0\n",
    "    accuracies = []\n",
    "    \n",
    "    if(mink <= 0):\n",
    "        print(\"The minimum value of K cannot be less than 1 ! \")\n",
    "        mink=1\n",
    "        print(\"(New minimum value = 1)\")\n",
    "        \n",
    "    if(maxk > (len(X_train)-1)):\n",
    "        print(\"The maximum value of K cannot be higher than size of dataset\")\n",
    "        maxk=(len(X_train)-1)\n",
    "        print(\"(New maximum value = \"+str(maxk)+\")\")\n",
    "        \n",
    "    for k in tqdm(range(mink,maxk)):\n",
    "        predictions = predict(X_test,k=k, p=1)\n",
    "        acc=accuracy_score(Y_test, predictions);\n",
    "        if(acc>best_acc):\n",
    "            best_acc=acc\n",
    "            best_k=k\n",
    "        accuracies.append(accuracy_score(Y_test, predictions))\n",
    "\n",
    "    print(\"\\nBest acc = \"+str(best_acc)+\"\\nBest k = \"+str(best_k))\n",
    "    \n",
    "    fig, ax = plt.subplots(figsize=(8,6))\n",
    "    ax.plot(range(mink,maxk), accuracies)\n",
    "    ax.set_xlabel('The k values')\n",
    "    ax.set_ylabel('Accuracy (%)');"
   ]
  },
  {
   "cell_type": "markdown",
   "metadata": {},
   "source": [
    "### Main Kısmı\n",
    "Burada veri setimizi programa dahil edip gerekli fonksiyonları çağırdık . Haricinde oluşturmuş olduğum KNN sınıflandırıcının performansını Sklearn kütüphanesindeki KNN sınıflandırıcısı ile kıyaslayıp yakaladığım oranları kıyasladım . "
   ]
  },
  {
   "cell_type": "code",
   "execution_count": 11,
   "metadata": {},
   "outputs": [],
   "source": [
    "def main():\n",
    "    global X_train, X_test, Y_train, Y_test\n",
    "    global X,Y\n",
    "    \n",
    "    df = pd.read_csv('heart.csv') #heart.csv\n",
    "    for col in df.columns: \n",
    "        print(col) \n",
    "    \n",
    "    seperateXY(df)\n",
    "    \n",
    "    prepareColumns()\n",
    "    \n",
    "    encodeLabels()\n",
    "    \n",
    "    # Split the data - 75% train, 25% test\n",
    "    \n",
    "    X_train, X_test, Y_train, Y_test = train_test_split(X, Y, test_size=0.20,random_state=42)\n",
    "    \n",
    "    # We use scaler because it's like a necessary at distance algorithms\n",
    "    # If you use age and salary values in your dataset ,\n",
    "    # their distances will be so different and We are using scaler\n",
    "    # and changing their scale to small numbers with scalers\n",
    "    \n",
    "    X_train = MinMaxNormalization(X_train)\n",
    "    X_test = MinMaxNormalization(X_test)\n",
    "    \n",
    "    k = int(input(\"\\nInput a K value = \"))\n",
    "    p = int(input(\"Input a P value (Default 1) = \"))\n",
    "    \n",
    "    predictions = predict(X_test,k=k, p=p)\n",
    "    \n",
    "    print(\"\\n\"+classification_report(Y_test,predictions))\n",
    "\n",
    "    print(f\"Our KNN Accuracy: {accuracy_score(Y_test, predictions)}\")\n",
    "\n",
    "    clf = KNeighborsClassifier(n_neighbors=k, p=p)\n",
    "    clf.fit(X_train, Y_train)\n",
    "    y_pred_test = clf.predict(X_test)\n",
    "\n",
    "    print(f\"Sklearn KNN Accuracy: {accuracy_score(Y_test, y_pred_test)}\")\n",
    "    \n",
    "    answer = input(\"\\nDo you want to get the best k value ? (Y/N)\")\n",
    "    \n",
    "    if answer == \"Y\" or answer == \"y\":\n",
    "        mink = int(input(\"Start value for k : \"))\n",
    "        maxk = int(input(\"End value for k : \"))\n",
    "        findTheBestK(mink,maxk)\n",
    "    else :\n",
    "        print(\"THE END\")"
   ]
  },
  {
   "cell_type": "code",
   "execution_count": 12,
   "metadata": {
    "scrolled": false
   },
   "outputs": [
    {
     "name": "stdout",
     "output_type": "stream",
     "text": [
      "Age\n",
      "Sex\n",
      "Degree of Chest Pain\n",
      "Rest blood Pressure\n",
      "Cholesterol\n",
      "Fasting Plasma Glucose(More than 120mg/dl)\n",
      "Resting Electrocardiographic Results\n",
      "Max Heart Rate\n",
      "Exercise Induced Angina\n",
      "ST depression induced by exercise relative to rest\n",
      "the Slope of the Peak\n",
      "Number of Major Vessels\n",
      "Type of Heart Defect\n",
      "target\n",
      "\n",
      "Write the class label : target\n",
      "\n",
      "Press enter after typing the column which you don't want to add prediction\n",
      "0.Age\n",
      "1.Sex\n",
      "2.Degree of Chest Pain\n",
      "3.Rest blood Pressure\n",
      "4.Cholesterol\n",
      "5.Fasting Plasma Glucose(More than 120mg/dl)\n",
      "6.Resting Electrocardiographic Results\n",
      "7.Max Heart Rate\n",
      "8.Exercise Induced Angina\n",
      "9.ST depression induced by exercise relative to rest\n",
      "10.the Slope of the Peak\n",
      "11.Number of Major Vessels\n",
      "12.Type of Heart Defect\n",
      "If you have finished enter the letter 'F' \n",
      "\n",
      "=> F\n",
      "<bound method NDFrame.head of      Age  Sex  Degree of Chest Pain  Rest blood Pressure  Cholesterol  \\\n",
      "0     63    1                     3                  145          233   \n",
      "1     37    1                     2                  130          250   \n",
      "2     41    0                     1                  130          204   \n",
      "3     56    1                     1                  120          236   \n",
      "4     57    0                     0                  120          354   \n",
      "..   ...  ...                   ...                  ...          ...   \n",
      "298   57    0                     0                  140          241   \n",
      "299   45    1                     3                  110          264   \n",
      "300   68    1                     0                  144          193   \n",
      "301   57    1                     0                  130          131   \n",
      "302   57    0                     1                  130          236   \n",
      "\n",
      "     Fasting Plasma Glucose(More than 120mg/dl)  \\\n",
      "0                                             1   \n",
      "1                                             0   \n",
      "2                                             0   \n",
      "3                                             0   \n",
      "4                                             0   \n",
      "..                                          ...   \n",
      "298                                           0   \n",
      "299                                           0   \n",
      "300                                           1   \n",
      "301                                           0   \n",
      "302                                           0   \n",
      "\n",
      "     Resting Electrocardiographic Results  Max Heart Rate  \\\n",
      "0                                       0             150   \n",
      "1                                       1             187   \n",
      "2                                       0             172   \n",
      "3                                       1             178   \n",
      "4                                       1             163   \n",
      "..                                    ...             ...   \n",
      "298                                     1             123   \n",
      "299                                     1             132   \n",
      "300                                     1             141   \n",
      "301                                     1             115   \n",
      "302                                     0             174   \n",
      "\n",
      "     Exercise Induced Angina  \\\n",
      "0                          0   \n",
      "1                          0   \n",
      "2                          0   \n",
      "3                          0   \n",
      "4                          1   \n",
      "..                       ...   \n",
      "298                        1   \n",
      "299                        0   \n",
      "300                        0   \n",
      "301                        1   \n",
      "302                        0   \n",
      "\n",
      "     ST depression induced by exercise relative to rest  \\\n",
      "0                                                  2.3    \n",
      "1                                                  3.5    \n",
      "2                                                  1.4    \n",
      "3                                                  0.8    \n",
      "4                                                  0.6    \n",
      "..                                                 ...    \n",
      "298                                                0.2    \n",
      "299                                                1.2    \n",
      "300                                                3.4    \n",
      "301                                                1.2    \n",
      "302                                                0.0    \n",
      "\n",
      "     the Slope of the Peak  Number of Major Vessels  Type of Heart Defect  \n",
      "0                        0                        0                     1  \n",
      "1                        0                        0                     2  \n",
      "2                        2                        0                     2  \n",
      "3                        2                        0                     2  \n",
      "4                        2                        0                     2  \n",
      "..                     ...                      ...                   ...  \n",
      "298                      1                        0                     3  \n",
      "299                      1                        0                     3  \n",
      "300                      1                        2                     3  \n",
      "301                      1                        1                     3  \n",
      "302                      1                        1                     2  \n",
      "\n",
      "[303 rows x 13 columns]>\n",
      "\n",
      "Input a K value = 15\n",
      "Input a P value (Default 1) = 2\n",
      "\n",
      "              precision    recall  f1-score   support\n",
      "\n",
      "           0       0.78      0.86      0.82        29\n",
      "           1       0.86      0.78      0.82        32\n",
      "\n",
      "    accuracy                           0.82        61\n",
      "   macro avg       0.82      0.82      0.82        61\n",
      "weighted avg       0.82      0.82      0.82        61\n",
      "\n",
      "Our KNN Accuracy: 0.819672131147541\n",
      "Sklearn KNN Accuracy: 0.819672131147541\n",
      "\n",
      "Do you want to get the best k value ? (Y/N)Y\n",
      "Start value for k : 1\n",
      "End value for k : 250\n",
      "The maximum value of K cannot be higher than size of dataset\n",
      "(New maximum value = 241)\n"
     ]
    },
    {
     "name": "stderr",
     "output_type": "stream",
     "text": [
      "100%|████████████████████████████████████████████████████████████████████████████████| 240/240 [01:55<00:00,  2.08it/s]\n"
     ]
    },
    {
     "name": "stdout",
     "output_type": "stream",
     "text": [
      "\n",
      "Best acc = 0.9016393442622951\n",
      "Best k = 39\n"
     ]
    },
    {
     "data": {
      "image/png": "[encoded data removed]",
      "text/plain": [
       "<Figure size 576x432 with 1 Axes>"
      ]
     },
     "metadata": {
      "needs_background": "light"
     },
     "output_type": "display_data"
    }
   ],
   "source": [
    "main()"
   ]
  },
  {
   "cell_type": "code",
   "execution_count": null,
   "metadata": {},
   "outputs": [],
   "source": []
  },
  {
   "cell_type": "code",
   "execution_count": null,
   "metadata": {},
   "outputs": [],
   "source": []
  }
 ],
 "metadata": {
  "kernelspec": {
   "display_name": "Python 3",
   "language": "python",
   "name": "python3"
  },
  "language_info": {
   "codemirror_mode": {
    "name": "ipython",
    "version": 3
   },
   "file_extension": ".py",
   "mimetype": "text/x-python",
   "name": "python",
   "nbconvert_exporter": "python",
   "pygments_lexer": "ipython3",
   "version": "3.7.4"
  }
 },
 "nbformat": 4,
 "nbformat_minor": 2
}
